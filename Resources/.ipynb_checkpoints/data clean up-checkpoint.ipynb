{
 "cells": [
  {
   "cell_type": "code",
   "execution_count": 2,
   "id": "67f5622d",
   "metadata": {},
   "outputs": [],
   "source": [
    "#imports\n",
    "\n",
    "import matplotlib.pyplot as plt\n",
    "import pandas as pd\n",
    "import scipy.stats as st\n",
    "import numpy as np\n",
    "from sqlalchemy import create_engine"
   ]
  },
  {
   "cell_type": "code",
   "execution_count": 3,
   "id": "9c0ae284",
   "metadata": {},
   "outputs": [],
   "source": [
    "# Create path to CSV\n",
    "# Apple CSV downloaded from Kaggle\n",
    "# Samsung CSV downloaded from Yahoo Finance\n",
    "\n",
    "Apple_path = \"../Resources/Apple/AAPL.csv\"\n",
    "Samsung_path = \"../Resources/Samsung/Samsung.csv\"\n",
    "Samsung_phone_path = \"../Resources/Samsung/Samsung phones.csv\""
   ]
  },
  {
   "cell_type": "code",
   "execution_count": 4,
   "id": "039cc36f",
   "metadata": {},
   "outputs": [],
   "source": [
    "#Read in files for stocks and phone release dates\n",
    "\n",
    "Apple_data = pd.read_csv(Apple_path)\n",
    "Samsung_data = pd.read_csv(Samsung_path)\n",
    "Sams_phone_data = pd.read_csv(Samsung_phone_path)\n",
    "\n",
    "apple = pd.DataFrame(Apple_data)\n",
    "samsung = pd.DataFrame(Samsung_data)\n",
    "Sams_phones = pd.DataFrame(Sams_phone_data)"
   ]
  },
  {
   "cell_type": "code",
   "execution_count": 5,
   "id": "28c639ae",
   "metadata": {
    "scrolled": true
   },
   "outputs": [
    {
     "data": {
      "text/plain": [
       "Date          object\n",
       "Open         float64\n",
       "High         float64\n",
       "Low          float64\n",
       "Close        float64\n",
       "Adj Close    float64\n",
       "Volume         int64\n",
       "dtype: object"
      ]
     },
     "execution_count": 5,
     "metadata": {},
     "output_type": "execute_result"
    }
   ],
   "source": [
    "apple.dtypes"
   ]
  },
  {
   "cell_type": "code",
   "execution_count": 6,
   "id": "38f8d441",
   "metadata": {
    "scrolled": true
   },
   "outputs": [
    {
     "data": {
      "text/plain": [
       "Date          object\n",
       "Open         float64\n",
       "High         float64\n",
       "Low          float64\n",
       "Close        float64\n",
       "Adj Close    float64\n",
       "Volume         int64\n",
       "dtype: object"
      ]
     },
     "execution_count": 6,
     "metadata": {},
     "output_type": "execute_result"
    }
   ],
   "source": [
    "samsung.dtypes"
   ]
  },
  {
   "cell_type": "code",
   "execution_count": 7,
   "id": "3b89042d",
   "metadata": {
    "scrolled": true
   },
   "outputs": [
    {
     "data": {
      "text/plain": [
       "Phone Model     object\n",
       "Release Date    object\n",
       "dtype: object"
      ]
     },
     "execution_count": 7,
     "metadata": {},
     "output_type": "execute_result"
    }
   ],
   "source": [
    "Sams_phones.dtypes"
   ]
  },
  {
   "cell_type": "code",
   "execution_count": 8,
   "id": "4f604c3b",
   "metadata": {},
   "outputs": [
    {
     "data": {
      "text/html": [
       "<div>\n",
       "<style scoped>\n",
       "    .dataframe tbody tr th:only-of-type {\n",
       "        vertical-align: middle;\n",
       "    }\n",
       "\n",
       "    .dataframe tbody tr th {\n",
       "        vertical-align: top;\n",
       "    }\n",
       "\n",
       "    .dataframe thead th {\n",
       "        text-align: right;\n",
       "    }\n",
       "</style>\n",
       "<table border=\"1\" class=\"dataframe\">\n",
       "  <thead>\n",
       "    <tr style=\"text-align: right;\">\n",
       "      <th></th>\n",
       "      <th>Phone Model</th>\n",
       "      <th>Release Date</th>\n",
       "    </tr>\n",
       "  </thead>\n",
       "  <tbody>\n",
       "    <tr>\n",
       "      <th>0</th>\n",
       "      <td>Samsung Galaxy S I9000</td>\n",
       "      <td>2010-06-01</td>\n",
       "    </tr>\n",
       "    <tr>\n",
       "      <th>1</th>\n",
       "      <td>Samsung I9008 Galaxy S</td>\n",
       "      <td>2010-06-01</td>\n",
       "    </tr>\n",
       "    <tr>\n",
       "      <th>2</th>\n",
       "      <td>Samsung Galaxy S M110S</td>\n",
       "      <td>2010-07-01</td>\n",
       "    </tr>\n",
       "    <tr>\n",
       "      <th>3</th>\n",
       "      <td>Samsung Galaxy S I909</td>\n",
       "      <td>2010-10-01</td>\n",
       "    </tr>\n",
       "    <tr>\n",
       "      <th>4</th>\n",
       "      <td>Samsung Galaxy S Hoppin M190S</td>\n",
       "      <td>2010-11-01</td>\n",
       "    </tr>\n",
       "  </tbody>\n",
       "</table>\n",
       "</div>"
      ],
      "text/plain": [
       "                     Phone Model Release Date\n",
       "0         Samsung Galaxy S I9000   2010-06-01\n",
       "1         Samsung I9008 Galaxy S   2010-06-01\n",
       "2         Samsung Galaxy S M110S   2010-07-01\n",
       "3          Samsung Galaxy S I909   2010-10-01\n",
       "4  Samsung Galaxy S Hoppin M190S   2010-11-01"
      ]
     },
     "execution_count": 8,
     "metadata": {},
     "output_type": "execute_result"
    }
   ],
   "source": [
    "Sams_phones.head()"
   ]
  },
  {
   "cell_type": "code",
   "execution_count": 9,
   "id": "54fc16e2",
   "metadata": {},
   "outputs": [
    {
     "data": {
      "text/html": [
       "<div>\n",
       "<style scoped>\n",
       "    .dataframe tbody tr th:only-of-type {\n",
       "        vertical-align: middle;\n",
       "    }\n",
       "\n",
       "    .dataframe tbody tr th {\n",
       "        vertical-align: top;\n",
       "    }\n",
       "\n",
       "    .dataframe thead th {\n",
       "        text-align: right;\n",
       "    }\n",
       "</style>\n",
       "<table border=\"1\" class=\"dataframe\">\n",
       "  <thead>\n",
       "    <tr style=\"text-align: right;\">\n",
       "      <th></th>\n",
       "      <th>Date</th>\n",
       "      <th>Open</th>\n",
       "      <th>High</th>\n",
       "      <th>Low</th>\n",
       "      <th>Close</th>\n",
       "      <th>Adj Close</th>\n",
       "      <th>Volume</th>\n",
       "    </tr>\n",
       "  </thead>\n",
       "  <tbody>\n",
       "    <tr>\n",
       "      <th>0</th>\n",
       "      <td>2014-09-29</td>\n",
       "      <td>100.589996</td>\n",
       "      <td>100.690002</td>\n",
       "      <td>98.040001</td>\n",
       "      <td>99.620003</td>\n",
       "      <td>93.514290</td>\n",
       "      <td>142718700</td>\n",
       "    </tr>\n",
       "    <tr>\n",
       "      <th>1</th>\n",
       "      <td>2014-10-06</td>\n",
       "      <td>99.949997</td>\n",
       "      <td>102.379997</td>\n",
       "      <td>98.309998</td>\n",
       "      <td>100.730003</td>\n",
       "      <td>94.556244</td>\n",
       "      <td>280258200</td>\n",
       "    </tr>\n",
       "    <tr>\n",
       "      <th>2</th>\n",
       "      <td>2014-10-13</td>\n",
       "      <td>101.330002</td>\n",
       "      <td>101.779999</td>\n",
       "      <td>95.180000</td>\n",
       "      <td>97.669998</td>\n",
       "      <td>91.683792</td>\n",
       "      <td>358539800</td>\n",
       "    </tr>\n",
       "    <tr>\n",
       "      <th>3</th>\n",
       "      <td>2014-10-20</td>\n",
       "      <td>98.320000</td>\n",
       "      <td>105.489998</td>\n",
       "      <td>98.220001</td>\n",
       "      <td>105.220001</td>\n",
       "      <td>98.771042</td>\n",
       "      <td>358532900</td>\n",
       "    </tr>\n",
       "    <tr>\n",
       "      <th>4</th>\n",
       "      <td>2014-10-27</td>\n",
       "      <td>104.849998</td>\n",
       "      <td>108.040001</td>\n",
       "      <td>104.699997</td>\n",
       "      <td>108.000000</td>\n",
       "      <td>101.380676</td>\n",
       "      <td>220230600</td>\n",
       "    </tr>\n",
       "  </tbody>\n",
       "</table>\n",
       "</div>"
      ],
      "text/plain": [
       "         Date        Open        High         Low       Close   Adj Close  \\\n",
       "0  2014-09-29  100.589996  100.690002   98.040001   99.620003   93.514290   \n",
       "1  2014-10-06   99.949997  102.379997   98.309998  100.730003   94.556244   \n",
       "2  2014-10-13  101.330002  101.779999   95.180000   97.669998   91.683792   \n",
       "3  2014-10-20   98.320000  105.489998   98.220001  105.220001   98.771042   \n",
       "4  2014-10-27  104.849998  108.040001  104.699997  108.000000  101.380676   \n",
       "\n",
       "      Volume  \n",
       "0  142718700  \n",
       "1  280258200  \n",
       "2  358539800  \n",
       "3  358532900  \n",
       "4  220230600  "
      ]
     },
     "execution_count": 9,
     "metadata": {},
     "output_type": "execute_result"
    }
   ],
   "source": [
    "#show Apple data\n",
    "apple.head()"
   ]
  },
  {
   "cell_type": "code",
   "execution_count": 10,
   "id": "d8ed0608",
   "metadata": {},
   "outputs": [
    {
     "data": {
      "text/html": [
       "<div>\n",
       "<style scoped>\n",
       "    .dataframe tbody tr th:only-of-type {\n",
       "        vertical-align: middle;\n",
       "    }\n",
       "\n",
       "    .dataframe tbody tr th {\n",
       "        vertical-align: top;\n",
       "    }\n",
       "\n",
       "    .dataframe thead th {\n",
       "        text-align: right;\n",
       "    }\n",
       "</style>\n",
       "<table border=\"1\" class=\"dataframe\">\n",
       "  <thead>\n",
       "    <tr style=\"text-align: right;\">\n",
       "      <th></th>\n",
       "      <th>Date</th>\n",
       "      <th>Open</th>\n",
       "      <th>High</th>\n",
       "      <th>Low</th>\n",
       "      <th>Close</th>\n",
       "      <th>Adj Close</th>\n",
       "      <th>Volume</th>\n",
       "    </tr>\n",
       "  </thead>\n",
       "  <tbody>\n",
       "    <tr>\n",
       "      <th>166</th>\n",
       "      <td>2017-12-04</td>\n",
       "      <td>172.479996</td>\n",
       "      <td>172.619995</td>\n",
       "      <td>166.460007</td>\n",
       "      <td>169.369995</td>\n",
       "      <td>168.682251</td>\n",
       "      <td>137481100</td>\n",
       "    </tr>\n",
       "    <tr>\n",
       "      <th>167</th>\n",
       "      <td>2017-12-11</td>\n",
       "      <td>169.199997</td>\n",
       "      <td>174.169998</td>\n",
       "      <td>168.789993</td>\n",
       "      <td>173.970001</td>\n",
       "      <td>173.263580</td>\n",
       "      <td>139147200</td>\n",
       "    </tr>\n",
       "    <tr>\n",
       "      <th>168</th>\n",
       "      <td>2017-12-18</td>\n",
       "      <td>174.880005</td>\n",
       "      <td>177.199997</td>\n",
       "      <td>173.250000</td>\n",
       "      <td>175.009995</td>\n",
       "      <td>174.299362</td>\n",
       "      <td>117632400</td>\n",
       "    </tr>\n",
       "    <tr>\n",
       "      <th>169</th>\n",
       "      <td>2017-12-25</td>\n",
       "      <td>170.800003</td>\n",
       "      <td>171.850006</td>\n",
       "      <td>169.220001</td>\n",
       "      <td>169.229996</td>\n",
       "      <td>168.542831</td>\n",
       "      <td>97163800</td>\n",
       "    </tr>\n",
       "    <tr>\n",
       "      <th>170</th>\n",
       "      <td>2018-01-01</td>\n",
       "      <td>170.160004</td>\n",
       "      <td>175.369995</td>\n",
       "      <td>169.259995</td>\n",
       "      <td>175.000000</td>\n",
       "      <td>174.289398</td>\n",
       "      <td>101168400</td>\n",
       "    </tr>\n",
       "  </tbody>\n",
       "</table>\n",
       "</div>"
      ],
      "text/plain": [
       "           Date        Open        High         Low       Close   Adj Close  \\\n",
       "166  2017-12-04  172.479996  172.619995  166.460007  169.369995  168.682251   \n",
       "167  2017-12-11  169.199997  174.169998  168.789993  173.970001  173.263580   \n",
       "168  2017-12-18  174.880005  177.199997  173.250000  175.009995  174.299362   \n",
       "169  2017-12-25  170.800003  171.850006  169.220001  169.229996  168.542831   \n",
       "170  2018-01-01  170.160004  175.369995  169.259995  175.000000  174.289398   \n",
       "\n",
       "        Volume  \n",
       "166  137481100  \n",
       "167  139147200  \n",
       "168  117632400  \n",
       "169   97163800  \n",
       "170  101168400  "
      ]
     },
     "execution_count": 10,
     "metadata": {},
     "output_type": "execute_result"
    }
   ],
   "source": [
    "#filter through the dates for Apple, showing the last 5 years of data\n",
    "apple_df = apple.loc[(apple['Date'] >= '2017-12-01')\n",
    "                     & (apple['Date'] < '2022-12-01')]\n",
    "apple_df.head()"
   ]
  },
  {
   "cell_type": "code",
   "execution_count": 11,
   "id": "d2837396",
   "metadata": {},
   "outputs": [
    {
     "data": {
      "text/html": [
       "<div>\n",
       "<style scoped>\n",
       "    .dataframe tbody tr th:only-of-type {\n",
       "        vertical-align: middle;\n",
       "    }\n",
       "\n",
       "    .dataframe tbody tr th {\n",
       "        vertical-align: top;\n",
       "    }\n",
       "\n",
       "    .dataframe thead th {\n",
       "        text-align: right;\n",
       "    }\n",
       "</style>\n",
       "<table border=\"1\" class=\"dataframe\">\n",
       "  <thead>\n",
       "    <tr style=\"text-align: right;\">\n",
       "      <th></th>\n",
       "      <th>Date</th>\n",
       "      <th>Open</th>\n",
       "      <th>High</th>\n",
       "      <th>Low</th>\n",
       "      <th>Close</th>\n",
       "      <th>Adj Close</th>\n",
       "      <th>Volume</th>\n",
       "    </tr>\n",
       "  </thead>\n",
       "  <tbody>\n",
       "    <tr>\n",
       "      <th>0</th>\n",
       "      <td>2001-05-14</td>\n",
       "      <td>89.250000</td>\n",
       "      <td>89.250000</td>\n",
       "      <td>88.000000</td>\n",
       "      <td>88.500000</td>\n",
       "      <td>66.472954</td>\n",
       "      <td>197500</td>\n",
       "    </tr>\n",
       "    <tr>\n",
       "      <th>1</th>\n",
       "      <td>2001-05-15</td>\n",
       "      <td>87.239998</td>\n",
       "      <td>88.699997</td>\n",
       "      <td>87.000000</td>\n",
       "      <td>87.309998</td>\n",
       "      <td>65.579132</td>\n",
       "      <td>122000</td>\n",
       "    </tr>\n",
       "    <tr>\n",
       "      <th>2</th>\n",
       "      <td>2001-05-16</td>\n",
       "      <td>86.000000</td>\n",
       "      <td>87.269997</td>\n",
       "      <td>84.500000</td>\n",
       "      <td>84.750000</td>\n",
       "      <td>63.656300</td>\n",
       "      <td>278900</td>\n",
       "    </tr>\n",
       "    <tr>\n",
       "      <th>3</th>\n",
       "      <td>2001-05-17</td>\n",
       "      <td>89.010002</td>\n",
       "      <td>89.879997</td>\n",
       "      <td>87.000000</td>\n",
       "      <td>89.489998</td>\n",
       "      <td>67.216553</td>\n",
       "      <td>364300</td>\n",
       "    </tr>\n",
       "    <tr>\n",
       "      <th>4</th>\n",
       "      <td>2001-05-18</td>\n",
       "      <td>88.150002</td>\n",
       "      <td>90.000000</td>\n",
       "      <td>84.889999</td>\n",
       "      <td>89.430000</td>\n",
       "      <td>67.171478</td>\n",
       "      <td>199100</td>\n",
       "    </tr>\n",
       "  </tbody>\n",
       "</table>\n",
       "</div>"
      ],
      "text/plain": [
       "         Date       Open       High        Low      Close  Adj Close  Volume\n",
       "0  2001-05-14  89.250000  89.250000  88.000000  88.500000  66.472954  197500\n",
       "1  2001-05-15  87.239998  88.699997  87.000000  87.309998  65.579132  122000\n",
       "2  2001-05-16  86.000000  87.269997  84.500000  84.750000  63.656300  278900\n",
       "3  2001-05-17  89.010002  89.879997  87.000000  89.489998  67.216553  364300\n",
       "4  2001-05-18  88.150002  90.000000  84.889999  89.430000  67.171478  199100"
      ]
     },
     "execution_count": 11,
     "metadata": {},
     "output_type": "execute_result"
    }
   ],
   "source": [
    "#show samsung data\n",
    "samsung.head()"
   ]
  },
  {
   "cell_type": "code",
   "execution_count": 12,
   "id": "ef66a7f6",
   "metadata": {
    "scrolled": true
   },
   "outputs": [
    {
     "data": {
      "text/html": [
       "<div>\n",
       "<style scoped>\n",
       "    .dataframe tbody tr th:only-of-type {\n",
       "        vertical-align: middle;\n",
       "    }\n",
       "\n",
       "    .dataframe tbody tr th {\n",
       "        vertical-align: top;\n",
       "    }\n",
       "\n",
       "    .dataframe thead th {\n",
       "        text-align: right;\n",
       "    }\n",
       "</style>\n",
       "<table border=\"1\" class=\"dataframe\">\n",
       "  <thead>\n",
       "    <tr style=\"text-align: right;\">\n",
       "      <th></th>\n",
       "      <th>Date</th>\n",
       "      <th>Open</th>\n",
       "      <th>High</th>\n",
       "      <th>Low</th>\n",
       "      <th>Close</th>\n",
       "      <th>Adj Close</th>\n",
       "      <th>Volume</th>\n",
       "    </tr>\n",
       "  </thead>\n",
       "  <tbody>\n",
       "    <tr>\n",
       "      <th>4223</th>\n",
       "      <td>2017-12-01</td>\n",
       "      <td>1177.0</td>\n",
       "      <td>1177.0</td>\n",
       "      <td>1161.0</td>\n",
       "      <td>1171.0</td>\n",
       "      <td>1008.617981</td>\n",
       "      <td>33164</td>\n",
       "    </tr>\n",
       "    <tr>\n",
       "      <th>4224</th>\n",
       "      <td>2017-12-04</td>\n",
       "      <td>1185.0</td>\n",
       "      <td>1185.0</td>\n",
       "      <td>1161.0</td>\n",
       "      <td>1165.0</td>\n",
       "      <td>1003.450012</td>\n",
       "      <td>33396</td>\n",
       "    </tr>\n",
       "    <tr>\n",
       "      <th>4225</th>\n",
       "      <td>2017-12-05</td>\n",
       "      <td>1179.0</td>\n",
       "      <td>1184.0</td>\n",
       "      <td>1168.0</td>\n",
       "      <td>1184.0</td>\n",
       "      <td>1019.815491</td>\n",
       "      <td>22455</td>\n",
       "    </tr>\n",
       "    <tr>\n",
       "      <th>4226</th>\n",
       "      <td>2017-12-06</td>\n",
       "      <td>1147.0</td>\n",
       "      <td>1152.0</td>\n",
       "      <td>1128.0</td>\n",
       "      <td>1151.0</td>\n",
       "      <td>991.391602</td>\n",
       "      <td>23665</td>\n",
       "    </tr>\n",
       "    <tr>\n",
       "      <th>4227</th>\n",
       "      <td>2017-12-07</td>\n",
       "      <td>1151.0</td>\n",
       "      <td>1178.0</td>\n",
       "      <td>1151.0</td>\n",
       "      <td>1166.0</td>\n",
       "      <td>1004.311401</td>\n",
       "      <td>27734</td>\n",
       "    </tr>\n",
       "  </tbody>\n",
       "</table>\n",
       "</div>"
      ],
      "text/plain": [
       "            Date    Open    High     Low   Close    Adj Close  Volume\n",
       "4223  2017-12-01  1177.0  1177.0  1161.0  1171.0  1008.617981   33164\n",
       "4224  2017-12-04  1185.0  1185.0  1161.0  1165.0  1003.450012   33396\n",
       "4225  2017-12-05  1179.0  1184.0  1168.0  1184.0  1019.815491   22455\n",
       "4226  2017-12-06  1147.0  1152.0  1128.0  1151.0   991.391602   23665\n",
       "4227  2017-12-07  1151.0  1178.0  1151.0  1166.0  1004.311401   27734"
      ]
     },
     "execution_count": 12,
     "metadata": {},
     "output_type": "execute_result"
    }
   ],
   "source": [
    "#filter through dates for Samsung stock, showing the last 5 years of data\n",
    "samsung_df = samsung.loc[(samsung['Date'] >= '2017-12-01')\n",
    "                     & (samsung['Date'] < '2022-12-01')]\n",
    "samsung_df.head()"
   ]
  },
  {
   "cell_type": "code",
   "execution_count": 13,
   "id": "e1b24e23",
   "metadata": {},
   "outputs": [
    {
     "data": {
      "text/html": [
       "<div>\n",
       "<style scoped>\n",
       "    .dataframe tbody tr th:only-of-type {\n",
       "        vertical-align: middle;\n",
       "    }\n",
       "\n",
       "    .dataframe tbody tr th {\n",
       "        vertical-align: top;\n",
       "    }\n",
       "\n",
       "    .dataframe thead th {\n",
       "        text-align: right;\n",
       "    }\n",
       "</style>\n",
       "<table border=\"1\" class=\"dataframe\">\n",
       "  <thead>\n",
       "    <tr style=\"text-align: right;\">\n",
       "      <th></th>\n",
       "      <th>Phone Model</th>\n",
       "      <th>Release Date</th>\n",
       "    </tr>\n",
       "  </thead>\n",
       "  <tbody>\n",
       "    <tr>\n",
       "      <th>78</th>\n",
       "      <td>Samsung Galaxy S9</td>\n",
       "      <td>2018-03-01</td>\n",
       "    </tr>\n",
       "    <tr>\n",
       "      <th>79</th>\n",
       "      <td>Samsung Galaxy S9+</td>\n",
       "      <td>2018-03-01</td>\n",
       "    </tr>\n",
       "    <tr>\n",
       "      <th>80</th>\n",
       "      <td>Samsung Galaxy S Light Luxury</td>\n",
       "      <td>2018-05-01</td>\n",
       "    </tr>\n",
       "    <tr>\n",
       "      <th>81</th>\n",
       "      <td>Samsung Galaxy S10</td>\n",
       "      <td>2019-03-01</td>\n",
       "    </tr>\n",
       "    <tr>\n",
       "      <th>82</th>\n",
       "      <td>Samsung Galaxy S10+</td>\n",
       "      <td>2019-03-01</td>\n",
       "    </tr>\n",
       "  </tbody>\n",
       "</table>\n",
       "</div>"
      ],
      "text/plain": [
       "                      Phone Model Release Date\n",
       "78              Samsung Galaxy S9   2018-03-01\n",
       "79             Samsung Galaxy S9+   2018-03-01\n",
       "80  Samsung Galaxy S Light Luxury   2018-05-01\n",
       "81             Samsung Galaxy S10   2019-03-01\n",
       "82            Samsung Galaxy S10+   2019-03-01"
      ]
     },
     "execution_count": 13,
     "metadata": {},
     "output_type": "execute_result"
    }
   ],
   "source": [
    "#filter through dates for Samsung phones, showing the last 5 years of phones releases\n",
    "sams_phone_df = Sams_phones.loc[(Sams_phones['Release Date'] >= '2017-12-01')\n",
    "                     & (Sams_phones['Release Date'] < '2022-12-01')]\n",
    "sams_phone_df.head()"
   ]
  },
  {
   "cell_type": "code",
   "execution_count": 14,
   "id": "996f3670",
   "metadata": {},
   "outputs": [
    {
     "data": {
      "text/html": [
       "<div>\n",
       "<style scoped>\n",
       "    .dataframe tbody tr th:only-of-type {\n",
       "        vertical-align: middle;\n",
       "    }\n",
       "\n",
       "    .dataframe tbody tr th {\n",
       "        vertical-align: top;\n",
       "    }\n",
       "\n",
       "    .dataframe thead th {\n",
       "        text-align: right;\n",
       "    }\n",
       "</style>\n",
       "<table border=\"1\" class=\"dataframe\">\n",
       "  <thead>\n",
       "    <tr style=\"text-align: right;\">\n",
       "      <th></th>\n",
       "      <th>Date</th>\n",
       "      <th>Open</th>\n",
       "      <th>High</th>\n",
       "      <th>Low</th>\n",
       "      <th>Close</th>\n",
       "      <th>Adj Close</th>\n",
       "      <th>Volume</th>\n",
       "    </tr>\n",
       "  </thead>\n",
       "  <tbody>\n",
       "    <tr>\n",
       "      <th>0</th>\n",
       "      <td>2001-05-14</td>\n",
       "      <td>89.250000</td>\n",
       "      <td>89.250000</td>\n",
       "      <td>88.000000</td>\n",
       "      <td>88.500000</td>\n",
       "      <td>66.472954</td>\n",
       "      <td>197500</td>\n",
       "    </tr>\n",
       "    <tr>\n",
       "      <th>1</th>\n",
       "      <td>2001-05-15</td>\n",
       "      <td>87.239998</td>\n",
       "      <td>88.699997</td>\n",
       "      <td>87.000000</td>\n",
       "      <td>87.309998</td>\n",
       "      <td>65.579132</td>\n",
       "      <td>122000</td>\n",
       "    </tr>\n",
       "    <tr>\n",
       "      <th>2</th>\n",
       "      <td>2001-05-16</td>\n",
       "      <td>86.000000</td>\n",
       "      <td>87.269997</td>\n",
       "      <td>84.500000</td>\n",
       "      <td>84.750000</td>\n",
       "      <td>63.656300</td>\n",
       "      <td>278900</td>\n",
       "    </tr>\n",
       "    <tr>\n",
       "      <th>3</th>\n",
       "      <td>2001-05-17</td>\n",
       "      <td>89.010002</td>\n",
       "      <td>89.879997</td>\n",
       "      <td>87.000000</td>\n",
       "      <td>89.489998</td>\n",
       "      <td>67.216553</td>\n",
       "      <td>364300</td>\n",
       "    </tr>\n",
       "    <tr>\n",
       "      <th>4</th>\n",
       "      <td>2001-05-18</td>\n",
       "      <td>88.150002</td>\n",
       "      <td>90.000000</td>\n",
       "      <td>84.889999</td>\n",
       "      <td>89.430000</td>\n",
       "      <td>67.171478</td>\n",
       "      <td>199100</td>\n",
       "    </tr>\n",
       "  </tbody>\n",
       "</table>\n",
       "</div>"
      ],
      "text/plain": [
       "         Date       Open       High        Low      Close  Adj Close  Volume\n",
       "0  2001-05-14  89.250000  89.250000  88.000000  88.500000  66.472954  197500\n",
       "1  2001-05-15  87.239998  88.699997  87.000000  87.309998  65.579132  122000\n",
       "2  2001-05-16  86.000000  87.269997  84.500000  84.750000  63.656300  278900\n",
       "3  2001-05-17  89.010002  89.879997  87.000000  89.489998  67.216553  364300\n",
       "4  2001-05-18  88.150002  90.000000  84.889999  89.430000  67.171478  199100"
      ]
     },
     "execution_count": 14,
     "metadata": {},
     "output_type": "execute_result"
    }
   ],
   "source": [
    "# function to reorder columns for stocks\n",
    "def columns(df):\n",
    "    df = df[['Date','Open','High','Low','Close','Adj Close','Volume']]\n",
    "    return df\n",
    "\n",
    "samsung.head()"
   ]
  },
  {
   "cell_type": "code",
   "execution_count": 15,
   "id": "2fd7fc32",
   "metadata": {},
   "outputs": [],
   "source": [
    "# function to calculate difference between high and low price\n",
    "def highlow(df):\n",
    "    df = df.assign(Difference = lambda x: x['High'] - x['Low'])\n",
    "    return df"
   ]
  },
  {
   "cell_type": "code",
   "execution_count": 16,
   "id": "c22d63f4",
   "metadata": {},
   "outputs": [],
   "source": [
    "# function to calculate revenue\n",
    "def rev(df):\n",
    "    df = df.assign(Revenue = lambda x: (x['Open'] + x['Close'])/2 * x['Volume'])\n",
    "    return df"
   ]
  },
  {
   "cell_type": "code",
   "execution_count": 17,
   "id": "85afb51a",
   "metadata": {},
   "outputs": [],
   "source": [
    "# function to calculate profit percent change \n",
    "def pctchg(df):\n",
    "    df['Revenue Percent Change'] = df['Revenue'].pct_change()\n",
    "    return df"
   ]
  },
  {
   "cell_type": "code",
   "execution_count": 18,
   "id": "6db0c504",
   "metadata": {},
   "outputs": [],
   "source": [
    "# funtion for cleaning up and formatting data\n",
    "def cleandat(df):\n",
    "    df = df.round(2)\n",
    "    df[\"Revenue Percent Change\"] = df[\"Revenue Percent Change\"].map('{:.2f}'.format)\n",
    "    df[\"Revenue\"] = df[\"Revenue\"].map(\"{:.2f}\".format)\n",
    "    df[\"Difference\"] = df[\"Difference\"].map(\"{:.2f}\".format)\n",
    "    df[\"High\"] = df[\"High\"].map(\"{:.2f}\".format)\n",
    "    df[\"Low\"] = df[\"Low\"].map(\"{:.2f}\".format)\n",
    "    df[\"Open\"] = df[\"Open\"].map(\"{:.2f}\".format)\n",
    "    df[\"Close\"] = df[\"Close\"].map(\"{:.2f}\".format)\n",
    "    df[\"Adj Close\"] = df[\"Adj Close\"].map(\"{:.2f}\".format)\n",
    "    df[\"Volume\"] = df[\"Volume\"].map(\"{:.0f}\".format)\n",
    "    return df"
   ]
  },
  {
   "cell_type": "code",
   "execution_count": 19,
   "id": "00252ed0",
   "metadata": {},
   "outputs": [],
   "source": [
    "# function to convert dtypes to string and floats for data manipulation\n",
    "def astypes(df):\n",
    "    df = df.astype({'Date': 'object',\n",
    "                    'Open': 'float',\n",
    "                    'High':'float',\n",
    "                    'Low':'float',\n",
    "                    'Close':'float',\n",
    "                    'Adj Close':'float',\n",
    "                    'Volume':'float',\n",
    "                    'Revenue':'float',\n",
    "                    'Revenue Percent Change':'float',\n",
    "                    'Difference':'float'})\n",
    "    return df"
   ]
  },
  {
   "cell_type": "code",
   "execution_count": 20,
   "id": "37308ca7",
   "metadata": {},
   "outputs": [
    {
     "data": {
      "text/html": [
       "<div>\n",
       "<style scoped>\n",
       "    .dataframe tbody tr th:only-of-type {\n",
       "        vertical-align: middle;\n",
       "    }\n",
       "\n",
       "    .dataframe tbody tr th {\n",
       "        vertical-align: top;\n",
       "    }\n",
       "\n",
       "    .dataframe thead th {\n",
       "        text-align: right;\n",
       "    }\n",
       "</style>\n",
       "<table border=\"1\" class=\"dataframe\">\n",
       "  <thead>\n",
       "    <tr style=\"text-align: right;\">\n",
       "      <th></th>\n",
       "      <th>Date</th>\n",
       "      <th>Open</th>\n",
       "      <th>High</th>\n",
       "      <th>Low</th>\n",
       "      <th>Close</th>\n",
       "      <th>Adj Close</th>\n",
       "      <th>Volume</th>\n",
       "      <th>Difference</th>\n",
       "      <th>Revenue</th>\n",
       "      <th>Revenue Percent Change</th>\n",
       "    </tr>\n",
       "  </thead>\n",
       "  <tbody>\n",
       "    <tr>\n",
       "      <th>4223</th>\n",
       "      <td>2017-12-01</td>\n",
       "      <td>1177.0</td>\n",
       "      <td>1177.0</td>\n",
       "      <td>1161.0</td>\n",
       "      <td>1171.0</td>\n",
       "      <td>1008.62</td>\n",
       "      <td>33164.0</td>\n",
       "      <td>16.0</td>\n",
       "      <td>38934536.0</td>\n",
       "      <td>NaN</td>\n",
       "    </tr>\n",
       "    <tr>\n",
       "      <th>4224</th>\n",
       "      <td>2017-12-04</td>\n",
       "      <td>1185.0</td>\n",
       "      <td>1185.0</td>\n",
       "      <td>1161.0</td>\n",
       "      <td>1165.0</td>\n",
       "      <td>1003.45</td>\n",
       "      <td>33396.0</td>\n",
       "      <td>24.0</td>\n",
       "      <td>39240300.0</td>\n",
       "      <td>0.01</td>\n",
       "    </tr>\n",
       "    <tr>\n",
       "      <th>4225</th>\n",
       "      <td>2017-12-05</td>\n",
       "      <td>1179.0</td>\n",
       "      <td>1184.0</td>\n",
       "      <td>1168.0</td>\n",
       "      <td>1184.0</td>\n",
       "      <td>1019.82</td>\n",
       "      <td>22455.0</td>\n",
       "      <td>16.0</td>\n",
       "      <td>26530582.5</td>\n",
       "      <td>-0.32</td>\n",
       "    </tr>\n",
       "    <tr>\n",
       "      <th>4226</th>\n",
       "      <td>2017-12-06</td>\n",
       "      <td>1147.0</td>\n",
       "      <td>1152.0</td>\n",
       "      <td>1128.0</td>\n",
       "      <td>1151.0</td>\n",
       "      <td>991.39</td>\n",
       "      <td>23665.0</td>\n",
       "      <td>24.0</td>\n",
       "      <td>27191085.0</td>\n",
       "      <td>0.02</td>\n",
       "    </tr>\n",
       "    <tr>\n",
       "      <th>4227</th>\n",
       "      <td>2017-12-07</td>\n",
       "      <td>1151.0</td>\n",
       "      <td>1178.0</td>\n",
       "      <td>1151.0</td>\n",
       "      <td>1166.0</td>\n",
       "      <td>1004.31</td>\n",
       "      <td>27734.0</td>\n",
       "      <td>27.0</td>\n",
       "      <td>32129839.0</td>\n",
       "      <td>0.18</td>\n",
       "    </tr>\n",
       "  </tbody>\n",
       "</table>\n",
       "</div>"
      ],
      "text/plain": [
       "            Date    Open    High     Low   Close  Adj Close   Volume  \\\n",
       "4223  2017-12-01  1177.0  1177.0  1161.0  1171.0    1008.62  33164.0   \n",
       "4224  2017-12-04  1185.0  1185.0  1161.0  1165.0    1003.45  33396.0   \n",
       "4225  2017-12-05  1179.0  1184.0  1168.0  1184.0    1019.82  22455.0   \n",
       "4226  2017-12-06  1147.0  1152.0  1128.0  1151.0     991.39  23665.0   \n",
       "4227  2017-12-07  1151.0  1178.0  1151.0  1166.0    1004.31  27734.0   \n",
       "\n",
       "      Difference     Revenue  Revenue Percent Change  \n",
       "4223        16.0  38934536.0                     NaN  \n",
       "4224        24.0  39240300.0                    0.01  \n",
       "4225        16.0  26530582.5                   -0.32  \n",
       "4226        24.0  27191085.0                    0.02  \n",
       "4227        27.0  32129839.0                    0.18  "
      ]
     },
     "metadata": {},
     "output_type": "display_data"
    },
    {
     "data": {
      "text/html": [
       "<div>\n",
       "<style scoped>\n",
       "    .dataframe tbody tr th:only-of-type {\n",
       "        vertical-align: middle;\n",
       "    }\n",
       "\n",
       "    .dataframe tbody tr th {\n",
       "        vertical-align: top;\n",
       "    }\n",
       "\n",
       "    .dataframe thead th {\n",
       "        text-align: right;\n",
       "    }\n",
       "</style>\n",
       "<table border=\"1\" class=\"dataframe\">\n",
       "  <thead>\n",
       "    <tr style=\"text-align: right;\">\n",
       "      <th></th>\n",
       "      <th>Date</th>\n",
       "      <th>Open</th>\n",
       "      <th>High</th>\n",
       "      <th>Low</th>\n",
       "      <th>Close</th>\n",
       "      <th>Adj Close</th>\n",
       "      <th>Volume</th>\n",
       "      <th>Difference</th>\n",
       "      <th>Revenue</th>\n",
       "      <th>Revenue Percent Change</th>\n",
       "    </tr>\n",
       "  </thead>\n",
       "  <tbody>\n",
       "    <tr>\n",
       "      <th>166</th>\n",
       "      <td>2017-12-04</td>\n",
       "      <td>172.48</td>\n",
       "      <td>172.62</td>\n",
       "      <td>166.46</td>\n",
       "      <td>169.37</td>\n",
       "      <td>168.68</td>\n",
       "      <td>137481100.0</td>\n",
       "      <td>6.16</td>\n",
       "      <td>2.349896e+10</td>\n",
       "      <td>NaN</td>\n",
       "    </tr>\n",
       "    <tr>\n",
       "      <th>167</th>\n",
       "      <td>2017-12-11</td>\n",
       "      <td>169.20</td>\n",
       "      <td>174.17</td>\n",
       "      <td>168.79</td>\n",
       "      <td>173.97</td>\n",
       "      <td>173.26</td>\n",
       "      <td>139147200.0</td>\n",
       "      <td>5.38</td>\n",
       "      <td>2.387557e+10</td>\n",
       "      <td>0.02</td>\n",
       "    </tr>\n",
       "    <tr>\n",
       "      <th>168</th>\n",
       "      <td>2017-12-18</td>\n",
       "      <td>174.88</td>\n",
       "      <td>177.20</td>\n",
       "      <td>173.25</td>\n",
       "      <td>175.01</td>\n",
       "      <td>174.30</td>\n",
       "      <td>117632400.0</td>\n",
       "      <td>3.95</td>\n",
       "      <td>2.057920e+10</td>\n",
       "      <td>-0.14</td>\n",
       "    </tr>\n",
       "    <tr>\n",
       "      <th>169</th>\n",
       "      <td>2017-12-25</td>\n",
       "      <td>170.80</td>\n",
       "      <td>171.85</td>\n",
       "      <td>169.22</td>\n",
       "      <td>169.23</td>\n",
       "      <td>168.54</td>\n",
       "      <td>97163800.0</td>\n",
       "      <td>2.63</td>\n",
       "      <td>1.651930e+10</td>\n",
       "      <td>-0.20</td>\n",
       "    </tr>\n",
       "    <tr>\n",
       "      <th>170</th>\n",
       "      <td>2018-01-01</td>\n",
       "      <td>170.16</td>\n",
       "      <td>175.37</td>\n",
       "      <td>169.26</td>\n",
       "      <td>175.00</td>\n",
       "      <td>174.29</td>\n",
       "      <td>101168400.0</td>\n",
       "      <td>6.11</td>\n",
       "      <td>1.745964e+10</td>\n",
       "      <td>0.06</td>\n",
       "    </tr>\n",
       "  </tbody>\n",
       "</table>\n",
       "</div>"
      ],
      "text/plain": [
       "           Date    Open    High     Low   Close  Adj Close       Volume  \\\n",
       "166  2017-12-04  172.48  172.62  166.46  169.37     168.68  137481100.0   \n",
       "167  2017-12-11  169.20  174.17  168.79  173.97     173.26  139147200.0   \n",
       "168  2017-12-18  174.88  177.20  173.25  175.01     174.30  117632400.0   \n",
       "169  2017-12-25  170.80  171.85  169.22  169.23     168.54   97163800.0   \n",
       "170  2018-01-01  170.16  175.37  169.26  175.00     174.29  101168400.0   \n",
       "\n",
       "     Difference       Revenue  Revenue Percent Change  \n",
       "166        6.16  2.349896e+10                     NaN  \n",
       "167        5.38  2.387557e+10                    0.02  \n",
       "168        3.95  2.057920e+10                   -0.14  \n",
       "169        2.63  1.651930e+10                   -0.20  \n",
       "170        6.11  1.745964e+10                    0.06  "
      ]
     },
     "metadata": {},
     "output_type": "display_data"
    }
   ],
   "source": [
    "# create list of dfs\n",
    "dfs = [samsung_df, apple_df]\n",
    "# applying all functions in a for loop\n",
    "for i,df in enumerate(dfs):\n",
    "    df = columns(df)\n",
    "    df = highlow(df)\n",
    "    df = rev(df)\n",
    "    df = pctchg(df)\n",
    "    df = cleandat(df)\n",
    "    df = astypes(df)\n",
    "    display(df[:5])\n",
    "    dfs=df"
   ]
  },
  {
   "cell_type": "code",
   "execution_count": 43,
   "id": "e9e9a906",
   "metadata": {},
   "outputs": [],
   "source": [
    "# adding ticker column\n",
    "#apple['Ticker'] = 'AAPL'\n",
    "#samsung['Ticker'] = 'SMSN'"
   ]
  },
  {
   "cell_type": "code",
   "execution_count": 56,
   "id": "b09750b2",
   "metadata": {},
   "outputs": [],
   "source": [
    "#Samsung Phone Releases in the last five years"
   ]
  },
  {
   "cell_type": "code",
   "execution_count": 57,
   "id": "4f89b9a5",
   "metadata": {},
   "outputs": [],
   "source": [
    "data = pd.read_csv('../Resources/Samsung/Samsung phones.csv')"
   ]
  },
  {
   "cell_type": "code",
   "execution_count": 58,
   "id": "70661992",
   "metadata": {},
   "outputs": [
    {
     "data": {
      "text/html": [
       "<div>\n",
       "<style scoped>\n",
       "    .dataframe tbody tr th:only-of-type {\n",
       "        vertical-align: middle;\n",
       "    }\n",
       "\n",
       "    .dataframe tbody tr th {\n",
       "        vertical-align: top;\n",
       "    }\n",
       "\n",
       "    .dataframe thead th {\n",
       "        text-align: right;\n",
       "    }\n",
       "</style>\n",
       "<table border=\"1\" class=\"dataframe\">\n",
       "  <thead>\n",
       "    <tr style=\"text-align: right;\">\n",
       "      <th></th>\n",
       "      <th>Phone Model</th>\n",
       "      <th>Release Date</th>\n",
       "      <th>Year</th>\n",
       "    </tr>\n",
       "  </thead>\n",
       "  <tbody>\n",
       "    <tr>\n",
       "      <th>0</th>\n",
       "      <td>Samsung Galaxy S I9000</td>\n",
       "      <td>6/1/2010</td>\n",
       "      <td>2010</td>\n",
       "    </tr>\n",
       "    <tr>\n",
       "      <th>1</th>\n",
       "      <td>Samsung I9008 Galaxy S</td>\n",
       "      <td>6/1/2010</td>\n",
       "      <td>2010</td>\n",
       "    </tr>\n",
       "    <tr>\n",
       "      <th>2</th>\n",
       "      <td>Samsung Galaxy S M110S</td>\n",
       "      <td>7/1/2010</td>\n",
       "      <td>2010</td>\n",
       "    </tr>\n",
       "    <tr>\n",
       "      <th>3</th>\n",
       "      <td>Samsung Galaxy S I909</td>\n",
       "      <td>10/1/2010</td>\n",
       "      <td>2010</td>\n",
       "    </tr>\n",
       "    <tr>\n",
       "      <th>4</th>\n",
       "      <td>Samsung Galaxy S Hoppin M190S</td>\n",
       "      <td>11/1/2010</td>\n",
       "      <td>2010</td>\n",
       "    </tr>\n",
       "    <tr>\n",
       "      <th>...</th>\n",
       "      <td>...</td>\n",
       "      <td>...</td>\n",
       "      <td>...</td>\n",
       "    </tr>\n",
       "    <tr>\n",
       "      <th>461</th>\n",
       "      <td>Samsung Galaxy F52 5G</td>\n",
       "      <td>6/1/2021</td>\n",
       "      <td>2021</td>\n",
       "    </tr>\n",
       "    <tr>\n",
       "      <th>462</th>\n",
       "      <td>Samsung Galaxy F22</td>\n",
       "      <td>7/13/2021</td>\n",
       "      <td>2021</td>\n",
       "    </tr>\n",
       "    <tr>\n",
       "      <th>463</th>\n",
       "      <td>Samsung Galaxy F42 5G</td>\n",
       "      <td>10/3/2021</td>\n",
       "      <td>2021</td>\n",
       "    </tr>\n",
       "    <tr>\n",
       "      <th>464</th>\n",
       "      <td>Samsung Galaxy F23</td>\n",
       "      <td>3/16/2022</td>\n",
       "      <td>2022</td>\n",
       "    </tr>\n",
       "    <tr>\n",
       "      <th>465</th>\n",
       "      <td>Samsung Galaxy F13</td>\n",
       "      <td>3/16/2022</td>\n",
       "      <td>2022</td>\n",
       "    </tr>\n",
       "  </tbody>\n",
       "</table>\n",
       "<p>466 rows × 3 columns</p>\n",
       "</div>"
      ],
      "text/plain": [
       "                       Phone Model Release Date  Year\n",
       "0           Samsung Galaxy S I9000     6/1/2010  2010\n",
       "1           Samsung I9008 Galaxy S     6/1/2010  2010\n",
       "2           Samsung Galaxy S M110S     7/1/2010  2010\n",
       "3            Samsung Galaxy S I909    10/1/2010  2010\n",
       "4    Samsung Galaxy S Hoppin M190S    11/1/2010  2010\n",
       "..                             ...          ...   ...\n",
       "461          Samsung Galaxy F52 5G     6/1/2021  2021\n",
       "462             Samsung Galaxy F22    7/13/2021  2021\n",
       "463          Samsung Galaxy F42 5G    10/3/2021  2021\n",
       "464             Samsung Galaxy F23    3/16/2022  2022\n",
       "465             Samsung Galaxy F13    3/16/2022  2022\n",
       "\n",
       "[466 rows x 3 columns]"
      ]
     },
     "execution_count": 58,
     "metadata": {},
     "output_type": "execute_result"
    }
   ],
   "source": [
    "#produce total number of phones released by samsung\n",
    "df = pd.read_csv('../Resources/Samsung/Samsung phones.csv')\n",
    "df"
   ]
  },
  {
   "cell_type": "code",
   "execution_count": 59,
   "id": "9f871dc8",
   "metadata": {},
   "outputs": [
    {
     "data": {
      "text/html": [
       "<div>\n",
       "<style scoped>\n",
       "    .dataframe tbody tr th:only-of-type {\n",
       "        vertical-align: middle;\n",
       "    }\n",
       "\n",
       "    .dataframe tbody tr th {\n",
       "        vertical-align: top;\n",
       "    }\n",
       "\n",
       "    .dataframe thead th {\n",
       "        text-align: right;\n",
       "    }\n",
       "</style>\n",
       "<table border=\"1\" class=\"dataframe\">\n",
       "  <thead>\n",
       "    <tr style=\"text-align: right;\">\n",
       "      <th></th>\n",
       "      <th>Total Unique Phones</th>\n",
       "    </tr>\n",
       "  </thead>\n",
       "  <tbody>\n",
       "    <tr>\n",
       "      <th>0</th>\n",
       "      <td>465</td>\n",
       "    </tr>\n",
       "  </tbody>\n",
       "</table>\n",
       "</div>"
      ],
      "text/plain": [
       "   Total Unique Phones\n",
       "0                  465"
      ]
     },
     "execution_count": 59,
     "metadata": {},
     "output_type": "execute_result"
    }
   ],
   "source": [
    "# Calculate the number of unique phones\n",
    "phone_count = len(df[\"Phone Model\"].unique())\n",
    "summary_df = pd.DataFrame({\"Total Unique Phones\": [phone_count]})\n",
    "summary_df"
   ]
  },
  {
   "cell_type": "code",
   "execution_count": 60,
   "id": "71cdebc7",
   "metadata": {},
   "outputs": [
    {
     "data": {
      "text/html": [
       "<div>\n",
       "<style scoped>\n",
       "    .dataframe tbody tr th:only-of-type {\n",
       "        vertical-align: middle;\n",
       "    }\n",
       "\n",
       "    .dataframe tbody tr th {\n",
       "        vertical-align: top;\n",
       "    }\n",
       "\n",
       "    .dataframe thead th {\n",
       "        text-align: right;\n",
       "    }\n",
       "</style>\n",
       "<table border=\"1\" class=\"dataframe\">\n",
       "  <thead>\n",
       "    <tr style=\"text-align: right;\">\n",
       "      <th></th>\n",
       "      <th>Phone Model</th>\n",
       "      <th>Release Date</th>\n",
       "      <th>Year</th>\n",
       "      <th>Yearly_Releases</th>\n",
       "    </tr>\n",
       "  </thead>\n",
       "  <tbody>\n",
       "    <tr>\n",
       "      <th>0</th>\n",
       "      <td>Samsung Galaxy S I9000</td>\n",
       "      <td>6/1/2010</td>\n",
       "      <td>2010</td>\n",
       "      <td>8</td>\n",
       "    </tr>\n",
       "    <tr>\n",
       "      <th>1</th>\n",
       "      <td>Samsung I9008 Galaxy S</td>\n",
       "      <td>6/1/2010</td>\n",
       "      <td>2010</td>\n",
       "      <td>8</td>\n",
       "    </tr>\n",
       "    <tr>\n",
       "      <th>2</th>\n",
       "      <td>Samsung Galaxy S M110S</td>\n",
       "      <td>7/1/2010</td>\n",
       "      <td>2010</td>\n",
       "      <td>8</td>\n",
       "    </tr>\n",
       "    <tr>\n",
       "      <th>3</th>\n",
       "      <td>Samsung Galaxy S I909</td>\n",
       "      <td>10/1/2010</td>\n",
       "      <td>2010</td>\n",
       "      <td>8</td>\n",
       "    </tr>\n",
       "    <tr>\n",
       "      <th>4</th>\n",
       "      <td>Samsung Galaxy S Hoppin M190S</td>\n",
       "      <td>11/1/2010</td>\n",
       "      <td>2010</td>\n",
       "      <td>8</td>\n",
       "    </tr>\n",
       "    <tr>\n",
       "      <th>...</th>\n",
       "      <td>...</td>\n",
       "      <td>...</td>\n",
       "      <td>...</td>\n",
       "      <td>...</td>\n",
       "    </tr>\n",
       "    <tr>\n",
       "      <th>461</th>\n",
       "      <td>Samsung Galaxy F52 5G</td>\n",
       "      <td>6/1/2021</td>\n",
       "      <td>2021</td>\n",
       "      <td>38</td>\n",
       "    </tr>\n",
       "    <tr>\n",
       "      <th>462</th>\n",
       "      <td>Samsung Galaxy F22</td>\n",
       "      <td>7/13/2021</td>\n",
       "      <td>2021</td>\n",
       "      <td>38</td>\n",
       "    </tr>\n",
       "    <tr>\n",
       "      <th>463</th>\n",
       "      <td>Samsung Galaxy F42 5G</td>\n",
       "      <td>10/3/2021</td>\n",
       "      <td>2021</td>\n",
       "      <td>38</td>\n",
       "    </tr>\n",
       "    <tr>\n",
       "      <th>464</th>\n",
       "      <td>Samsung Galaxy F23</td>\n",
       "      <td>3/16/2022</td>\n",
       "      <td>2022</td>\n",
       "      <td>32</td>\n",
       "    </tr>\n",
       "    <tr>\n",
       "      <th>465</th>\n",
       "      <td>Samsung Galaxy F13</td>\n",
       "      <td>3/16/2022</td>\n",
       "      <td>2022</td>\n",
       "      <td>32</td>\n",
       "    </tr>\n",
       "  </tbody>\n",
       "</table>\n",
       "<p>466 rows × 4 columns</p>\n",
       "</div>"
      ],
      "text/plain": [
       "                       Phone Model Release Date  Year  Yearly_Releases\n",
       "0           Samsung Galaxy S I9000     6/1/2010  2010                8\n",
       "1           Samsung I9008 Galaxy S     6/1/2010  2010                8\n",
       "2           Samsung Galaxy S M110S     7/1/2010  2010                8\n",
       "3            Samsung Galaxy S I909    10/1/2010  2010                8\n",
       "4    Samsung Galaxy S Hoppin M190S    11/1/2010  2010                8\n",
       "..                             ...          ...   ...              ...\n",
       "461          Samsung Galaxy F52 5G     6/1/2021  2021               38\n",
       "462             Samsung Galaxy F22    7/13/2021  2021               38\n",
       "463          Samsung Galaxy F42 5G    10/3/2021  2021               38\n",
       "464             Samsung Galaxy F23    3/16/2022  2022               32\n",
       "465             Samsung Galaxy F13    3/16/2022  2022               32\n",
       "\n",
       "[466 rows x 4 columns]"
      ]
     },
     "execution_count": 60,
     "metadata": {},
     "output_type": "execute_result"
    }
   ],
   "source": [
    "#count the number of releases by year\n",
    "s = df['Year'].value_counts().rename('Yearly_Releases')\n",
    "df = df.join(s, on='Year')\n",
    "df"
   ]
  },
  {
   "cell_type": "code",
   "execution_count": 61,
   "id": "00302df4",
   "metadata": {},
   "outputs": [
    {
     "data": {
      "text/plain": [
       "23"
      ]
     },
     "execution_count": 61,
     "metadata": {},
     "output_type": "execute_result"
    }
   ],
   "source": [
    "df['Year'].value_counts()[2017]"
   ]
  },
  {
   "cell_type": "code",
   "execution_count": 62,
   "id": "53f16560",
   "metadata": {},
   "outputs": [
    {
     "data": {
      "text/plain": [
       "28"
      ]
     },
     "execution_count": 62,
     "metadata": {},
     "output_type": "execute_result"
    }
   ],
   "source": [
    "df['Year'].value_counts()[2018]"
   ]
  },
  {
   "cell_type": "code",
   "execution_count": 63,
   "id": "acc0f0e6",
   "metadata": {},
   "outputs": [
    {
     "data": {
      "text/plain": [
       "42"
      ]
     },
     "execution_count": 63,
     "metadata": {},
     "output_type": "execute_result"
    }
   ],
   "source": [
    "df['Year'].value_counts()[2019]"
   ]
  },
  {
   "cell_type": "code",
   "execution_count": 64,
   "id": "4eea55af",
   "metadata": {},
   "outputs": [
    {
     "data": {
      "text/plain": [
       "51"
      ]
     },
     "execution_count": 64,
     "metadata": {},
     "output_type": "execute_result"
    }
   ],
   "source": [
    "df['Year'].value_counts()[2020]"
   ]
  },
  {
   "cell_type": "code",
   "execution_count": 65,
   "id": "5e99b467",
   "metadata": {},
   "outputs": [
    {
     "data": {
      "text/plain": [
       "38"
      ]
     },
     "execution_count": 65,
     "metadata": {},
     "output_type": "execute_result"
    }
   ],
   "source": [
    "df['Year'].value_counts()[2021]"
   ]
  },
  {
   "cell_type": "code",
   "execution_count": 66,
   "id": "663a6990",
   "metadata": {},
   "outputs": [
    {
     "data": {
      "text/plain": [
       "32"
      ]
     },
     "execution_count": 66,
     "metadata": {},
     "output_type": "execute_result"
    }
   ],
   "source": [
    "df['Year'].value_counts()[2022]"
   ]
  },
  {
   "cell_type": "code",
   "execution_count": 67,
   "id": "e9f98da8",
   "metadata": {},
   "outputs": [
    {
     "data": {
      "text/plain": [
       "<BarContainer object of 6 artists>"
      ]
     },
     "execution_count": 67,
     "metadata": {},
     "output_type": "execute_result"
    },
    {
     "data": {
      "image/png": "[encoded data removed]",
      "text/plain": [
       "<Figure size 432x288 with 1 Axes>"
      ]
     },
     "metadata": {
      "needs_background": "light"
     },
     "output_type": "display_data"
    }
   ],
   "source": [
    "releases = [23, 28, 42, 51, 38, 32]\n",
    "x_axis = np.arange(len(releases))\n",
    "tick_locations = [value for value in x_axis]\n",
    "plt.xticks(tick_locations, [\"2017\", \"2018\", \"2019\", \"2020\", \"2021\", \"2022\"])\n",
    "plt.title(\"Samsung Phone Releases Since 2017\")\n",
    "plt.xlabel(\"Year\")\n",
    "plt.ylabel(\"Number of Phones\")\n",
    "plt.bar(x_axis, releases, color='g', alpha=0.5, align=\"center\")"
   ]
  },
  {
   "cell_type": "code",
   "execution_count": null,
   "id": "c99fb259",
   "metadata": {},
   "outputs": [],
   "source": []
  },
  {
   "cell_type": "code",
   "execution_count": 59,
   "id": "4574d77e",
   "metadata": {},
   "outputs": [
    {
     "ename": "ModuleNotFoundError",
     "evalue": "No module named 'psycopg2'",
     "output_type": "error",
     "traceback": [
      "\u001b[1;31m---------------------------------------------------------------------------\u001b[0m",
      "\u001b[1;31mModuleNotFoundError\u001b[0m                       Traceback (most recent call last)",
      "Input \u001b[1;32mIn [59]\u001b[0m, in \u001b[0;36m<cell line: 8>\u001b[1;34m()\u001b[0m\n\u001b[0;32m      6\u001b[0m database_name \u001b[38;5;241m=\u001b[39m \u001b[38;5;124m'\u001b[39m\u001b[38;5;124mcustomer_db\u001b[39m\u001b[38;5;124m'\u001b[39m\n\u001b[0;32m      7\u001b[0m rds_connection_string \u001b[38;5;241m=\u001b[39m \u001b[38;5;124mf\u001b[39m\u001b[38;5;124m'\u001b[39m\u001b[38;5;132;01m{\u001b[39;00mprotocol\u001b[38;5;132;01m}\u001b[39;00m\u001b[38;5;124m://\u001b[39m\u001b[38;5;132;01m{\u001b[39;00musername\u001b[38;5;132;01m}\u001b[39;00m\u001b[38;5;124m:\u001b[39m\u001b[38;5;132;01m{\u001b[39;00mpassword\u001b[38;5;132;01m}\u001b[39;00m\u001b[38;5;124m@\u001b[39m\u001b[38;5;132;01m{\u001b[39;00mhost\u001b[38;5;132;01m}\u001b[39;00m\u001b[38;5;124m:\u001b[39m\u001b[38;5;132;01m{\u001b[39;00mport\u001b[38;5;132;01m}\u001b[39;00m\u001b[38;5;124m/\u001b[39m\u001b[38;5;132;01m{\u001b[39;00mdatabase_name\u001b[38;5;132;01m}\u001b[39;00m\u001b[38;5;124m'\u001b[39m\n\u001b[1;32m----> 8\u001b[0m engine \u001b[38;5;241m=\u001b[39m \u001b[43mcreate_engine\u001b[49m\u001b[43m(\u001b[49m\u001b[43mrds_connection_string\u001b[49m\u001b[43m)\u001b[49m\n",
      "File \u001b[1;32m<string>:2\u001b[0m, in \u001b[0;36mcreate_engine\u001b[1;34m(url, **kwargs)\u001b[0m\n",
      "File \u001b[1;32m~\\anaconda3\\lib\\site-packages\\sqlalchemy\\util\\deprecations.py:309\u001b[0m, in \u001b[0;36mdeprecated_params.<locals>.decorate.<locals>.warned\u001b[1;34m(fn, *args, **kwargs)\u001b[0m\n\u001b[0;32m    302\u001b[0m     \u001b[38;5;28;01mif\u001b[39;00m m \u001b[38;5;129;01min\u001b[39;00m kwargs:\n\u001b[0;32m    303\u001b[0m         _warn_with_version(\n\u001b[0;32m    304\u001b[0m             messages[m],\n\u001b[0;32m    305\u001b[0m             versions[m],\n\u001b[0;32m    306\u001b[0m             version_warnings[m],\n\u001b[0;32m    307\u001b[0m             stacklevel\u001b[38;5;241m=\u001b[39m\u001b[38;5;241m3\u001b[39m,\n\u001b[0;32m    308\u001b[0m         )\n\u001b[1;32m--> 309\u001b[0m \u001b[38;5;28;01mreturn\u001b[39;00m fn(\u001b[38;5;241m*\u001b[39margs, \u001b[38;5;241m*\u001b[39m\u001b[38;5;241m*\u001b[39mkwargs)\n",
      "File \u001b[1;32m~\\anaconda3\\lib\\site-packages\\sqlalchemy\\engine\\create.py:560\u001b[0m, in \u001b[0;36mcreate_engine\u001b[1;34m(url, **kwargs)\u001b[0m\n\u001b[0;32m    558\u001b[0m         \u001b[38;5;28;01mif\u001b[39;00m k \u001b[38;5;129;01min\u001b[39;00m kwargs:\n\u001b[0;32m    559\u001b[0m             dbapi_args[k] \u001b[38;5;241m=\u001b[39m pop_kwarg(k)\n\u001b[1;32m--> 560\u001b[0m     dbapi \u001b[38;5;241m=\u001b[39m dialect_cls\u001b[38;5;241m.\u001b[39mdbapi(\u001b[38;5;241m*\u001b[39m\u001b[38;5;241m*\u001b[39mdbapi_args)\n\u001b[0;32m    562\u001b[0m dialect_args[\u001b[38;5;124m\"\u001b[39m\u001b[38;5;124mdbapi\u001b[39m\u001b[38;5;124m\"\u001b[39m] \u001b[38;5;241m=\u001b[39m dbapi\n\u001b[0;32m    564\u001b[0m dialect_args\u001b[38;5;241m.\u001b[39msetdefault(\u001b[38;5;124m\"\u001b[39m\u001b[38;5;124mcompiler_linting\u001b[39m\u001b[38;5;124m\"\u001b[39m, compiler\u001b[38;5;241m.\u001b[39mNO_LINTING)\n",
      "File \u001b[1;32m~\\anaconda3\\lib\\site-packages\\sqlalchemy\\dialects\\postgresql\\psycopg2.py:782\u001b[0m, in \u001b[0;36mPGDialect_psycopg2.dbapi\u001b[1;34m(cls)\u001b[0m\n\u001b[0;32m    780\u001b[0m \u001b[38;5;129m@classmethod\u001b[39m\n\u001b[0;32m    781\u001b[0m \u001b[38;5;28;01mdef\u001b[39;00m \u001b[38;5;21mdbapi\u001b[39m(\u001b[38;5;28mcls\u001b[39m):\n\u001b[1;32m--> 782\u001b[0m     \u001b[38;5;28;01mimport\u001b[39;00m \u001b[38;5;21;01mpsycopg2\u001b[39;00m\n\u001b[0;32m    784\u001b[0m     \u001b[38;5;28;01mreturn\u001b[39;00m psycopg2\n",
      "\u001b[1;31mModuleNotFoundError\u001b[0m: No module named 'psycopg2'"
     ]
    }
   ],
   "source": [
    "protocol = 'postgresql'\n",
    "username = '<admin>'\n",
    "password = '<admin>'\n",
    "host = 'localhost'\n",
    "port = 5432\n",
    "database_name = 'customer_db'\n",
    "rds_connection_string = f'{protocol}://{username}:{password}@{host}:{port}/{database_name}'\n",
    "engine = create_engine(rds_connection_string)"
   ]
  },
  {
   "cell_type": "code",
   "execution_count": null,
   "id": "e25503b2",
   "metadata": {},
   "outputs": [],
   "source": []
  },
  {
   "cell_type": "code",
   "execution_count": null,
   "id": "dcc5ee7c",
   "metadata": {},
   "outputs": [],
   "source": []
  },
  {
   "cell_type": "code",
   "execution_count": null,
   "id": "062ef93c",
   "metadata": {},
   "outputs": [],
   "source": []
  },
  {
   "cell_type": "code",
   "execution_count": null,
   "id": "638e1c53",
   "metadata": {},
   "outputs": [],
   "source": []
  },
  {
   "cell_type": "code",
   "execution_count": null,
   "id": "ebf7018e",
   "metadata": {},
   "outputs": [],
   "source": []
  }
 ],
 "metadata": {
  "kernelspec": {
   "display_name": "PythonData",
   "language": "python",
   "name": "pythondata"
  },
  "language_info": {
   "codemirror_mode": {
    "name": "ipython",
    "version": 3
   },
   "file_extension": ".py",
   "mimetype": "text/x-python",
   "name": "python",
   "nbconvert_exporter": "python",
   "pygments_lexer": "ipython3",
   "version": "3.9.12"
  }
 },
 "nbformat": 4,
 "nbformat_minor": 5
}

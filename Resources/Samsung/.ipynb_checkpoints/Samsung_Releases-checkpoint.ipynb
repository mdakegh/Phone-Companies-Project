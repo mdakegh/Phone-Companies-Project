{
 "cells": [
  {
   "cell_type": "code",
   "execution_count": 182,
   "id": "117694c9",
   "metadata": {},
   "outputs": [],
   "source": [
    "import csv\n",
    "import pandas as pd\n",
    "import matplotlib.pyplot as plt\n",
    "import numpy as np\n",
    "from collections import Counter\n",
    "from datetime import datetime"
   ]
  },
  {
   "cell_type": "code",
   "execution_count": 183,
   "id": "552e397e",
   "metadata": {},
   "outputs": [],
   "source": [
    "data = pd.read_csv('Samsung_Phones.csv')"
   ]
  },
  {
   "cell_type": "code",
   "execution_count": 184,
   "id": "bc0c3aa3",
   "metadata": {},
   "outputs": [
    {
     "data": {
      "text/html": [
       "<div>\n",
       "<style scoped>\n",
       "    .dataframe tbody tr th:only-of-type {\n",
       "        vertical-align: middle;\n",
       "    }\n",
       "\n",
       "    .dataframe tbody tr th {\n",
       "        vertical-align: top;\n",
       "    }\n",
       "\n",
       "    .dataframe thead th {\n",
       "        text-align: right;\n",
       "    }\n",
       "</style>\n",
       "<table border=\"1\" class=\"dataframe\">\n",
       "  <thead>\n",
       "    <tr style=\"text-align: right;\">\n",
       "      <th></th>\n",
       "      <th>Phone Model</th>\n",
       "      <th>Release Date</th>\n",
       "      <th>Year</th>\n",
       "    </tr>\n",
       "  </thead>\n",
       "  <tbody>\n",
       "    <tr>\n",
       "      <th>0</th>\n",
       "      <td>Samsung Galaxy S I9000</td>\n",
       "      <td>6/1/2010</td>\n",
       "      <td>2010</td>\n",
       "    </tr>\n",
       "    <tr>\n",
       "      <th>1</th>\n",
       "      <td>Samsung I9008 Galaxy S</td>\n",
       "      <td>6/1/2010</td>\n",
       "      <td>2010</td>\n",
       "    </tr>\n",
       "    <tr>\n",
       "      <th>2</th>\n",
       "      <td>Samsung Galaxy S M110S</td>\n",
       "      <td>7/1/2010</td>\n",
       "      <td>2010</td>\n",
       "    </tr>\n",
       "    <tr>\n",
       "      <th>3</th>\n",
       "      <td>Samsung Galaxy S I909</td>\n",
       "      <td>10/1/2010</td>\n",
       "      <td>2010</td>\n",
       "    </tr>\n",
       "    <tr>\n",
       "      <th>4</th>\n",
       "      <td>Samsung Galaxy S Hoppin M190S</td>\n",
       "      <td>11/1/2010</td>\n",
       "      <td>2010</td>\n",
       "    </tr>\n",
       "    <tr>\n",
       "      <th>...</th>\n",
       "      <td>...</td>\n",
       "      <td>...</td>\n",
       "      <td>...</td>\n",
       "    </tr>\n",
       "    <tr>\n",
       "      <th>461</th>\n",
       "      <td>Samsung Galaxy F52 5G</td>\n",
       "      <td>6/1/2021</td>\n",
       "      <td>2021</td>\n",
       "    </tr>\n",
       "    <tr>\n",
       "      <th>462</th>\n",
       "      <td>Samsung Galaxy F22</td>\n",
       "      <td>7/13/2021</td>\n",
       "      <td>2021</td>\n",
       "    </tr>\n",
       "    <tr>\n",
       "      <th>463</th>\n",
       "      <td>Samsung Galaxy F42 5G</td>\n",
       "      <td>10/3/2021</td>\n",
       "      <td>2021</td>\n",
       "    </tr>\n",
       "    <tr>\n",
       "      <th>464</th>\n",
       "      <td>Samsung Galaxy F23</td>\n",
       "      <td>3/16/2022</td>\n",
       "      <td>2022</td>\n",
       "    </tr>\n",
       "    <tr>\n",
       "      <th>465</th>\n",
       "      <td>Samsung Galaxy F13</td>\n",
       "      <td>3/16/2022</td>\n",
       "      <td>2022</td>\n",
       "    </tr>\n",
       "  </tbody>\n",
       "</table>\n",
       "<p>466 rows × 3 columns</p>\n",
       "</div>"
      ],
      "text/plain": [
       "                       Phone Model Release Date  Year\n",
       "0           Samsung Galaxy S I9000     6/1/2010  2010\n",
       "1           Samsung I9008 Galaxy S     6/1/2010  2010\n",
       "2           Samsung Galaxy S M110S     7/1/2010  2010\n",
       "3            Samsung Galaxy S I909    10/1/2010  2010\n",
       "4    Samsung Galaxy S Hoppin M190S    11/1/2010  2010\n",
       "..                             ...          ...   ...\n",
       "461          Samsung Galaxy F52 5G     6/1/2021  2021\n",
       "462             Samsung Galaxy F22    7/13/2021  2021\n",
       "463          Samsung Galaxy F42 5G    10/3/2021  2021\n",
       "464             Samsung Galaxy F23    3/16/2022  2022\n",
       "465             Samsung Galaxy F13    3/16/2022  2022\n",
       "\n",
       "[466 rows x 3 columns]"
      ]
     },
     "execution_count": 184,
     "metadata": {},
     "output_type": "execute_result"
    }
   ],
   "source": [
    "#produce total number of phones released by samsung\n",
    "df = pd.read_csv('Samsung_Phones.csv')\n",
    "df"
   ]
  },
  {
   "cell_type": "code",
   "execution_count": 191,
   "id": "b094e0e3",
   "metadata": {},
   "outputs": [
    {
     "data": {
      "text/html": [
       "<div>\n",
       "<style scoped>\n",
       "    .dataframe tbody tr th:only-of-type {\n",
       "        vertical-align: middle;\n",
       "    }\n",
       "\n",
       "    .dataframe tbody tr th {\n",
       "        vertical-align: top;\n",
       "    }\n",
       "\n",
       "    .dataframe thead th {\n",
       "        text-align: right;\n",
       "    }\n",
       "</style>\n",
       "<table border=\"1\" class=\"dataframe\">\n",
       "  <thead>\n",
       "    <tr style=\"text-align: right;\">\n",
       "      <th></th>\n",
       "      <th>Total Unique Phones</th>\n",
       "    </tr>\n",
       "  </thead>\n",
       "  <tbody>\n",
       "    <tr>\n",
       "      <th>0</th>\n",
       "      <td>465</td>\n",
       "    </tr>\n",
       "  </tbody>\n",
       "</table>\n",
       "</div>"
      ],
      "text/plain": [
       "   Total Unique Phones\n",
       "0                  465"
      ]
     },
     "execution_count": 191,
     "metadata": {},
     "output_type": "execute_result"
    }
   ],
   "source": [
    "# Calculate the number of unique phones\n",
    "phone_count = len(df[\"Phone Model\"].unique())\n",
    "summary_df = pd.DataFrame({\"Total Unique Phones\": [phone_count]})\n",
    "summary_df"
   ]
  },
  {
   "cell_type": "code",
   "execution_count": 186,
   "id": "549b002b",
   "metadata": {},
   "outputs": [
    {
     "data": {
      "text/html": [
       "<div>\n",
       "<style scoped>\n",
       "    .dataframe tbody tr th:only-of-type {\n",
       "        vertical-align: middle;\n",
       "    }\n",
       "\n",
       "    .dataframe tbody tr th {\n",
       "        vertical-align: top;\n",
       "    }\n",
       "\n",
       "    .dataframe thead th {\n",
       "        text-align: right;\n",
       "    }\n",
       "</style>\n",
       "<table border=\"1\" class=\"dataframe\">\n",
       "  <thead>\n",
       "    <tr style=\"text-align: right;\">\n",
       "      <th></th>\n",
       "      <th>Phone Model</th>\n",
       "      <th>Release Date</th>\n",
       "      <th>Year</th>\n",
       "      <th>Yearly_Releases</th>\n",
       "    </tr>\n",
       "  </thead>\n",
       "  <tbody>\n",
       "    <tr>\n",
       "      <th>0</th>\n",
       "      <td>Samsung Galaxy S I9000</td>\n",
       "      <td>6/1/2010</td>\n",
       "      <td>2010</td>\n",
       "      <td>8</td>\n",
       "    </tr>\n",
       "    <tr>\n",
       "      <th>1</th>\n",
       "      <td>Samsung I9008 Galaxy S</td>\n",
       "      <td>6/1/2010</td>\n",
       "      <td>2010</td>\n",
       "      <td>8</td>\n",
       "    </tr>\n",
       "    <tr>\n",
       "      <th>2</th>\n",
       "      <td>Samsung Galaxy S M110S</td>\n",
       "      <td>7/1/2010</td>\n",
       "      <td>2010</td>\n",
       "      <td>8</td>\n",
       "    </tr>\n",
       "    <tr>\n",
       "      <th>3</th>\n",
       "      <td>Samsung Galaxy S I909</td>\n",
       "      <td>10/1/2010</td>\n",
       "      <td>2010</td>\n",
       "      <td>8</td>\n",
       "    </tr>\n",
       "    <tr>\n",
       "      <th>4</th>\n",
       "      <td>Samsung Galaxy S Hoppin M190S</td>\n",
       "      <td>11/1/2010</td>\n",
       "      <td>2010</td>\n",
       "      <td>8</td>\n",
       "    </tr>\n",
       "    <tr>\n",
       "      <th>...</th>\n",
       "      <td>...</td>\n",
       "      <td>...</td>\n",
       "      <td>...</td>\n",
       "      <td>...</td>\n",
       "    </tr>\n",
       "    <tr>\n",
       "      <th>461</th>\n",
       "      <td>Samsung Galaxy F52 5G</td>\n",
       "      <td>6/1/2021</td>\n",
       "      <td>2021</td>\n",
       "      <td>38</td>\n",
       "    </tr>\n",
       "    <tr>\n",
       "      <th>462</th>\n",
       "      <td>Samsung Galaxy F22</td>\n",
       "      <td>7/13/2021</td>\n",
       "      <td>2021</td>\n",
       "      <td>38</td>\n",
       "    </tr>\n",
       "    <tr>\n",
       "      <th>463</th>\n",
       "      <td>Samsung Galaxy F42 5G</td>\n",
       "      <td>10/3/2021</td>\n",
       "      <td>2021</td>\n",
       "      <td>38</td>\n",
       "    </tr>\n",
       "    <tr>\n",
       "      <th>464</th>\n",
       "      <td>Samsung Galaxy F23</td>\n",
       "      <td>3/16/2022</td>\n",
       "      <td>2022</td>\n",
       "      <td>32</td>\n",
       "    </tr>\n",
       "    <tr>\n",
       "      <th>465</th>\n",
       "      <td>Samsung Galaxy F13</td>\n",
       "      <td>3/16/2022</td>\n",
       "      <td>2022</td>\n",
       "      <td>32</td>\n",
       "    </tr>\n",
       "  </tbody>\n",
       "</table>\n",
       "<p>466 rows × 4 columns</p>\n",
       "</div>"
      ],
      "text/plain": [
       "                       Phone Model Release Date  Year  Yearly_Releases\n",
       "0           Samsung Galaxy S I9000     6/1/2010  2010                8\n",
       "1           Samsung I9008 Galaxy S     6/1/2010  2010                8\n",
       "2           Samsung Galaxy S M110S     7/1/2010  2010                8\n",
       "3            Samsung Galaxy S I909    10/1/2010  2010                8\n",
       "4    Samsung Galaxy S Hoppin M190S    11/1/2010  2010                8\n",
       "..                             ...          ...   ...              ...\n",
       "461          Samsung Galaxy F52 5G     6/1/2021  2021               38\n",
       "462             Samsung Galaxy F22    7/13/2021  2021               38\n",
       "463          Samsung Galaxy F42 5G    10/3/2021  2021               38\n",
       "464             Samsung Galaxy F23    3/16/2022  2022               32\n",
       "465             Samsung Galaxy F13    3/16/2022  2022               32\n",
       "\n",
       "[466 rows x 4 columns]"
      ]
     },
     "execution_count": 186,
     "metadata": {},
     "output_type": "execute_result"
    }
   ],
   "source": [
    "#count the number of releases by year\n",
    "s = df['Year'].value_counts().rename('Yearly_Releases')\n",
    "df = df.join(s, on='Year')\n",
    "df"
   ]
  },
  {
   "cell_type": "code",
   "execution_count": null,
   "id": "357e7faa",
   "metadata": {},
   "outputs": [],
   "source": [
    "df['Year'].value_counts()[2021]"
   ]
  },
  {
   "cell_type": "code",
   "execution_count": 190,
   "id": "74ecef8d",
   "metadata": {},
   "outputs": [
    {
     "data": {
      "text/plain": [
       "32"
      ]
     },
     "execution_count": 190,
     "metadata": {},
     "output_type": "execute_result"
    }
   ],
   "source": [
    "df['Year'].value_counts()[2022]"
   ]
  },
  {
   "cell_type": "code",
   "execution_count": 147,
   "id": "78d9ed19",
   "metadata": {},
   "outputs": [
    {
     "data": {
      "text/plain": [
       "Index(['Phone Model', 'Release Date'], dtype='object')"
      ]
     },
     "execution_count": 147,
     "metadata": {},
     "output_type": "execute_result"
    }
   ],
   "source": [
    "data.columns"
   ]
  },
  {
   "cell_type": "code",
   "execution_count": null,
   "id": "58716583",
   "metadata": {},
   "outputs": [],
   "source": []
  }
 ],
 "metadata": {
  "kernelspec": {
   "display_name": "PythonData",
   "language": "python",
   "name": "pythondata"
  },
  "language_info": {
   "codemirror_mode": {
    "name": "ipython",
    "version": 3
   },
   "file_extension": ".py",
   "mimetype": "text/x-python",
   "name": "python",
   "nbconvert_exporter": "python",
   "pygments_lexer": "ipython3",
   "version": "3.9.12"
  }
 },
 "nbformat": 4,
 "nbformat_minor": 5
}
